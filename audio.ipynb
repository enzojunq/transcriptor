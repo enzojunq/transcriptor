{
 "cells": [
  {
   "cell_type": "code",
   "execution_count": 2,
   "metadata": {},
   "outputs": [],
   "source": [
    "import openai\n",
    "from dotenv import load_dotenv,find_dotenv\n",
    "_ = load_dotenv(find_dotenv())\n",
    "\n",
    "client = openai.OpenAI()"
   ]
  },
  {
   "cell_type": "code",
   "execution_count": null,
   "metadata": {},
   "outputs": [],
   "source": [
    "def transcreve_audio(caminho_audio,language='pt',response_format='text'):\n",
    "    with open(caminho_audio, 'rb') as arquivo_audio:  \n",
    "        transcricao = client.audio.transcriptions.create(\n",
    "        model='whisper-1',\n",
    "        language=language,\n",
    "        response_format=response_format,\n",
    "        file=arquivo_audio\n",
    "        )\n",
    "    return transcricao\n",
    "\n",
    "    "
   ]
  },
  {
   "cell_type": "code",
   "execution_count": null,
   "metadata": {},
   "outputs": [],
   "source": [
    "arquivo_audio = open('audio.mp3', 'rb')\n",
    "transcricao = client.audio.transcriptions.create(\n",
    "    model='whisper-1',\n",
    "    language='pt',\n",
    "    response_format='text',\n",
    "    file=arquivo_audio\n",
    ")\n"
   ]
  }
 ],
 "metadata": {
  "kernelspec": {
   "display_name": "venv",
   "language": "python",
   "name": "python3"
  },
  "language_info": {
   "codemirror_mode": {
    "name": "ipython",
    "version": 3
   },
   "file_extension": ".py",
   "mimetype": "text/x-python",
   "name": "python",
   "nbconvert_exporter": "python",
   "pygments_lexer": "ipython3",
   "version": "3.11.3"
  }
 },
 "nbformat": 4,
 "nbformat_minor": 2
}
